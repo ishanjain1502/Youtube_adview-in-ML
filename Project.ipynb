{
  "nbformat": 4,
  "nbformat_minor": 0,
  "metadata": {
    "colab": {
      "name": "Project.ipynb",
      "provenance": [],
      "collapsed_sections": []
    },
    "kernelspec": {
      "name": "python3",
      "display_name": "Python 3"
    }
  },
  "cells": [
    {
      "cell_type": "code",
      "metadata": {
        "id": "W5byTzevWBW4"
      },
      "source": [
        "import numpy as np\n",
        "import pandas as pd\n",
        "import matplotlib.cm as cm\n",
        "import matplotlib.pyplot as plt\n"
      ],
      "execution_count": 103,
      "outputs": []
    },
    {
      "cell_type": "code",
      "metadata": {
        "id": "-87fOGrmNiUR"
      },
      "source": [
        "data_t = pd.read_csv(\"/content/sample_data/train.csv\")"
      ],
      "execution_count": 104,
      "outputs": []
    },
    {
      "cell_type": "code",
      "metadata": {
        "colab": {
          "base_uri": "https://localhost:8080/",
          "height": 195
        },
        "id": "o1n1pvZqN1-9",
        "outputId": "f6979374-d0a0-45ca-88e1-e407c700fe60"
      },
      "source": [
        "data_t.head()\n"
      ],
      "execution_count": 105,
      "outputs": [
        {
          "output_type": "execute_result",
          "data": {
            "text/html": [
              "<div>\n",
              "<style scoped>\n",
              "    .dataframe tbody tr th:only-of-type {\n",
              "        vertical-align: middle;\n",
              "    }\n",
              "\n",
              "    .dataframe tbody tr th {\n",
              "        vertical-align: top;\n",
              "    }\n",
              "\n",
              "    .dataframe thead th {\n",
              "        text-align: right;\n",
              "    }\n",
              "</style>\n",
              "<table border=\"1\" class=\"dataframe\">\n",
              "  <thead>\n",
              "    <tr style=\"text-align: right;\">\n",
              "      <th></th>\n",
              "      <th>vidid</th>\n",
              "      <th>adview</th>\n",
              "      <th>views</th>\n",
              "      <th>likes</th>\n",
              "      <th>dislikes</th>\n",
              "      <th>comment</th>\n",
              "      <th>published</th>\n",
              "      <th>duration</th>\n",
              "      <th>category</th>\n",
              "    </tr>\n",
              "  </thead>\n",
              "  <tbody>\n",
              "    <tr>\n",
              "      <th>0</th>\n",
              "      <td>VID_18655</td>\n",
              "      <td>40</td>\n",
              "      <td>1031602</td>\n",
              "      <td>8523</td>\n",
              "      <td>363</td>\n",
              "      <td>1095</td>\n",
              "      <td>2016-09-14</td>\n",
              "      <td>PT7M37S</td>\n",
              "      <td>F</td>\n",
              "    </tr>\n",
              "    <tr>\n",
              "      <th>1</th>\n",
              "      <td>VID_14135</td>\n",
              "      <td>2</td>\n",
              "      <td>1707</td>\n",
              "      <td>56</td>\n",
              "      <td>2</td>\n",
              "      <td>6</td>\n",
              "      <td>2016-10-01</td>\n",
              "      <td>PT9M30S</td>\n",
              "      <td>D</td>\n",
              "    </tr>\n",
              "    <tr>\n",
              "      <th>2</th>\n",
              "      <td>VID_2187</td>\n",
              "      <td>1</td>\n",
              "      <td>2023</td>\n",
              "      <td>25</td>\n",
              "      <td>0</td>\n",
              "      <td>2</td>\n",
              "      <td>2016-07-02</td>\n",
              "      <td>PT2M16S</td>\n",
              "      <td>C</td>\n",
              "    </tr>\n",
              "    <tr>\n",
              "      <th>3</th>\n",
              "      <td>VID_23096</td>\n",
              "      <td>6</td>\n",
              "      <td>620860</td>\n",
              "      <td>777</td>\n",
              "      <td>161</td>\n",
              "      <td>153</td>\n",
              "      <td>2016-07-27</td>\n",
              "      <td>PT4M22S</td>\n",
              "      <td>H</td>\n",
              "    </tr>\n",
              "    <tr>\n",
              "      <th>4</th>\n",
              "      <td>VID_10175</td>\n",
              "      <td>1</td>\n",
              "      <td>666</td>\n",
              "      <td>1</td>\n",
              "      <td>0</td>\n",
              "      <td>0</td>\n",
              "      <td>2016-06-29</td>\n",
              "      <td>PT31S</td>\n",
              "      <td>D</td>\n",
              "    </tr>\n",
              "  </tbody>\n",
              "</table>\n",
              "</div>"
            ],
            "text/plain": [
              "       vidid  adview    views likes  ... comment   published duration category\n",
              "0  VID_18655      40  1031602  8523  ...    1095  2016-09-14  PT7M37S        F\n",
              "1  VID_14135       2     1707    56  ...       6  2016-10-01  PT9M30S        D\n",
              "2   VID_2187       1     2023    25  ...       2  2016-07-02  PT2M16S        C\n",
              "3  VID_23096       6   620860   777  ...     153  2016-07-27  PT4M22S        H\n",
              "4  VID_10175       1      666     1  ...       0  2016-06-29    PT31S        D\n",
              "\n",
              "[5 rows x 9 columns]"
            ]
          },
          "metadata": {
            "tags": []
          },
          "execution_count": 105
        }
      ]
    },
    {
      "cell_type": "code",
      "metadata": {
        "colab": {
          "base_uri": "https://localhost:8080/"
        },
        "id": "U_MsqI-MOVXA",
        "outputId": "f4301479-04c0-4c20-9fcf-aa3bd6e813a5"
      },
      "source": [
        "data_t.shape"
      ],
      "execution_count": 106,
      "outputs": [
        {
          "output_type": "execute_result",
          "data": {
            "text/plain": [
              "(14999, 9)"
            ]
          },
          "metadata": {
            "tags": []
          },
          "execution_count": 106
        }
      ]
    },
    {
      "cell_type": "code",
      "metadata": {
        "colab": {
          "base_uri": "https://localhost:8080/",
          "height": 195
        },
        "id": "OQ1P4IsFO3zx",
        "outputId": "bc523124-b07a-451a-e601-3c1d09b57ca6"
      },
      "source": [
        "category = {'A': 1, 'B':2 , 'C':3, 'D':4 , 'E':5 , 'F': 6, 'G':7 , 'H':8 }\n",
        "data_t[\"category\"]= data_t[\"category\"].map(category)\n",
        "data_t.head()"
      ],
      "execution_count": 107,
      "outputs": [
        {
          "output_type": "execute_result",
          "data": {
            "text/html": [
              "<div>\n",
              "<style scoped>\n",
              "    .dataframe tbody tr th:only-of-type {\n",
              "        vertical-align: middle;\n",
              "    }\n",
              "\n",
              "    .dataframe tbody tr th {\n",
              "        vertical-align: top;\n",
              "    }\n",
              "\n",
              "    .dataframe thead th {\n",
              "        text-align: right;\n",
              "    }\n",
              "</style>\n",
              "<table border=\"1\" class=\"dataframe\">\n",
              "  <thead>\n",
              "    <tr style=\"text-align: right;\">\n",
              "      <th></th>\n",
              "      <th>vidid</th>\n",
              "      <th>adview</th>\n",
              "      <th>views</th>\n",
              "      <th>likes</th>\n",
              "      <th>dislikes</th>\n",
              "      <th>comment</th>\n",
              "      <th>published</th>\n",
              "      <th>duration</th>\n",
              "      <th>category</th>\n",
              "    </tr>\n",
              "  </thead>\n",
              "  <tbody>\n",
              "    <tr>\n",
              "      <th>0</th>\n",
              "      <td>VID_18655</td>\n",
              "      <td>40</td>\n",
              "      <td>1031602</td>\n",
              "      <td>8523</td>\n",
              "      <td>363</td>\n",
              "      <td>1095</td>\n",
              "      <td>2016-09-14</td>\n",
              "      <td>PT7M37S</td>\n",
              "      <td>6</td>\n",
              "    </tr>\n",
              "    <tr>\n",
              "      <th>1</th>\n",
              "      <td>VID_14135</td>\n",
              "      <td>2</td>\n",
              "      <td>1707</td>\n",
              "      <td>56</td>\n",
              "      <td>2</td>\n",
              "      <td>6</td>\n",
              "      <td>2016-10-01</td>\n",
              "      <td>PT9M30S</td>\n",
              "      <td>4</td>\n",
              "    </tr>\n",
              "    <tr>\n",
              "      <th>2</th>\n",
              "      <td>VID_2187</td>\n",
              "      <td>1</td>\n",
              "      <td>2023</td>\n",
              "      <td>25</td>\n",
              "      <td>0</td>\n",
              "      <td>2</td>\n",
              "      <td>2016-07-02</td>\n",
              "      <td>PT2M16S</td>\n",
              "      <td>3</td>\n",
              "    </tr>\n",
              "    <tr>\n",
              "      <th>3</th>\n",
              "      <td>VID_23096</td>\n",
              "      <td>6</td>\n",
              "      <td>620860</td>\n",
              "      <td>777</td>\n",
              "      <td>161</td>\n",
              "      <td>153</td>\n",
              "      <td>2016-07-27</td>\n",
              "      <td>PT4M22S</td>\n",
              "      <td>8</td>\n",
              "    </tr>\n",
              "    <tr>\n",
              "      <th>4</th>\n",
              "      <td>VID_10175</td>\n",
              "      <td>1</td>\n",
              "      <td>666</td>\n",
              "      <td>1</td>\n",
              "      <td>0</td>\n",
              "      <td>0</td>\n",
              "      <td>2016-06-29</td>\n",
              "      <td>PT31S</td>\n",
              "      <td>4</td>\n",
              "    </tr>\n",
              "  </tbody>\n",
              "</table>\n",
              "</div>"
            ],
            "text/plain": [
              "       vidid  adview    views likes  ... comment   published duration category\n",
              "0  VID_18655      40  1031602  8523  ...    1095  2016-09-14  PT7M37S        6\n",
              "1  VID_14135       2     1707    56  ...       6  2016-10-01  PT9M30S        4\n",
              "2   VID_2187       1     2023    25  ...       2  2016-07-02  PT2M16S        3\n",
              "3  VID_23096       6   620860   777  ...     153  2016-07-27  PT4M22S        8\n",
              "4  VID_10175       1      666     1  ...       0  2016-06-29    PT31S        4\n",
              "\n",
              "[5 rows x 9 columns]"
            ]
          },
          "metadata": {
            "tags": []
          },
          "execution_count": 107
        }
      ]
    },
    {
      "cell_type": "code",
      "metadata": {
        "id": "kWUmV-9PQMMf"
      },
      "source": [
        "data_t = data_t[data_t.views !='F']\n",
        "data_t = data_t[data_t.likes !='F']\n",
        "data_t = data_t[data_t.dislikes !='F']\n",
        "data_t = data_t[data_t.comment !='F']"
      ],
      "execution_count": 108,
      "outputs": []
    },
    {
      "cell_type": "code",
      "metadata": {
        "id": "8GaAQ1z1QyZd"
      },
      "source": [
        "data_t[\"views\"] = pd.to_numeric(data_t[\"views\"])\n",
        "data_t[\"likes\"] = pd.to_numeric(data_t[\"likes\"])\n",
        "data_t[\"dislikes\"] = pd.to_numeric(data_t[\"dislikes\"])\n",
        "data_t[\"comment\"] = pd.to_numeric(data_t[\"comment\"])\n",
        "data_t[\"adview\"] = pd.to_numeric(data_t[\"adview\"])"
      ],
      "execution_count": 109,
      "outputs": []
    },
    {
      "cell_type": "code",
      "metadata": {
        "id": "gXV8RDUbRPww"
      },
      "source": [
        "col_vid = data_t[\"vidid\"]"
      ],
      "execution_count": 110,
      "outputs": []
    },
    {
      "cell_type": "code",
      "metadata": {
        "id": "8kyBT1gzRplS"
      },
      "source": [
        "from sklearn.preprocessing import LabelEncoder\n",
        "data_t[\"duration\"] = LabelEncoder().fit_transform(data_t[\"duration\"])\n",
        "data_t[\"vidid\"] = LabelEncoder().fit_transform(data_t[\"vidid\"])\n",
        "data_t[\"published\"] = LabelEncoder().fit_transform(data_t[\"published\"])"
      ],
      "execution_count": 111,
      "outputs": []
    },
    {
      "cell_type": "code",
      "metadata": {
        "colab": {
          "base_uri": "https://localhost:8080/",
          "height": 195
        },
        "id": "u2OEPYE6pgCJ",
        "outputId": "bc69a17b-5da9-49d8-9364-a216bfe17218"
      },
      "source": [
        "data_t.head()"
      ],
      "execution_count": 112,
      "outputs": [
        {
          "output_type": "execute_result",
          "data": {
            "text/html": [
              "<div>\n",
              "<style scoped>\n",
              "    .dataframe tbody tr th:only-of-type {\n",
              "        vertical-align: middle;\n",
              "    }\n",
              "\n",
              "    .dataframe tbody tr th {\n",
              "        vertical-align: top;\n",
              "    }\n",
              "\n",
              "    .dataframe thead th {\n",
              "        text-align: right;\n",
              "    }\n",
              "</style>\n",
              "<table border=\"1\" class=\"dataframe\">\n",
              "  <thead>\n",
              "    <tr style=\"text-align: right;\">\n",
              "      <th></th>\n",
              "      <th>vidid</th>\n",
              "      <th>adview</th>\n",
              "      <th>views</th>\n",
              "      <th>likes</th>\n",
              "      <th>dislikes</th>\n",
              "      <th>comment</th>\n",
              "      <th>published</th>\n",
              "      <th>duration</th>\n",
              "      <th>category</th>\n",
              "    </tr>\n",
              "  </thead>\n",
              "  <tbody>\n",
              "    <tr>\n",
              "      <th>0</th>\n",
              "      <td>5912</td>\n",
              "      <td>40</td>\n",
              "      <td>1031602</td>\n",
              "      <td>8523</td>\n",
              "      <td>363</td>\n",
              "      <td>1095</td>\n",
              "      <td>2168</td>\n",
              "      <td>2925</td>\n",
              "      <td>6</td>\n",
              "    </tr>\n",
              "    <tr>\n",
              "      <th>1</th>\n",
              "      <td>2741</td>\n",
              "      <td>2</td>\n",
              "      <td>1707</td>\n",
              "      <td>56</td>\n",
              "      <td>2</td>\n",
              "      <td>6</td>\n",
              "      <td>2185</td>\n",
              "      <td>3040</td>\n",
              "      <td>4</td>\n",
              "    </tr>\n",
              "    <tr>\n",
              "      <th>2</th>\n",
              "      <td>8138</td>\n",
              "      <td>1</td>\n",
              "      <td>2023</td>\n",
              "      <td>25</td>\n",
              "      <td>0</td>\n",
              "      <td>2</td>\n",
              "      <td>2094</td>\n",
              "      <td>1863</td>\n",
              "      <td>3</td>\n",
              "    </tr>\n",
              "    <tr>\n",
              "      <th>3</th>\n",
              "      <td>9005</td>\n",
              "      <td>6</td>\n",
              "      <td>620860</td>\n",
              "      <td>777</td>\n",
              "      <td>161</td>\n",
              "      <td>153</td>\n",
              "      <td>2119</td>\n",
              "      <td>2546</td>\n",
              "      <td>8</td>\n",
              "    </tr>\n",
              "    <tr>\n",
              "      <th>4</th>\n",
              "      <td>122</td>\n",
              "      <td>1</td>\n",
              "      <td>666</td>\n",
              "      <td>1</td>\n",
              "      <td>0</td>\n",
              "      <td>0</td>\n",
              "      <td>2091</td>\n",
              "      <td>1963</td>\n",
              "      <td>4</td>\n",
              "    </tr>\n",
              "  </tbody>\n",
              "</table>\n",
              "</div>"
            ],
            "text/plain": [
              "   vidid  adview    views  likes  ...  comment  published  duration  category\n",
              "0   5912      40  1031602   8523  ...     1095       2168      2925         6\n",
              "1   2741       2     1707     56  ...        6       2185      3040         4\n",
              "2   8138       1     2023     25  ...        2       2094      1863         3\n",
              "3   9005       6   620860    777  ...      153       2119      2546         8\n",
              "4    122       1      666      1  ...        0       2091      1963         4\n",
              "\n",
              "[5 rows x 9 columns]"
            ]
          },
          "metadata": {
            "tags": []
          },
          "execution_count": 112
        }
      ]
    },
    {
      "cell_type": "code",
      "metadata": {
        "id": "X5mWwpH7qtWk"
      },
      "source": [
        "import datetime\n",
        "import time"
      ],
      "execution_count": 113,
      "outputs": []
    },
    {
      "cell_type": "code",
      "metadata": {
        "id": "7VTb_Bu6qyjD"
      },
      "source": [
        "def checki(x):\n",
        "  y = x[2:]\n",
        "  h = ''\n",
        "  m = ''\n",
        "  s = ''\n",
        "  mm = ''\n",
        "  P = ['H','M','S']\n",
        "  for i in y:\n",
        "    if i not in P:\n",
        "      mm+=i\n",
        "    else:\n",
        "      if(i==\"H\"):\n",
        "        h = mm\n",
        "        mm = ''\n",
        "      elif(i == \"M\"):\n",
        "        m = mm\n",
        "        mm = ''\n",
        "      else:\n",
        "        s = mm\n",
        "        mm = ''\n",
        "    if(h==''):\n",
        "      h = '00'\n",
        "    if(m == ''):\n",
        "      m = '00'\n",
        "    if(s==''):\n",
        "      s='00'\n",
        "  bp = h+':'+m+':'+s\n",
        "  return bp\n",
        "train=pd.read_csv(\"/content/sample_data/train.csv\")\n",
        "mp = pd.read_csv(\"/content/sample_data/train.csv\")[\"duration\"]\n",
        "time = mp.apply(checki)"
      ],
      "execution_count": 114,
      "outputs": []
    },
    {
      "cell_type": "code",
      "metadata": {
        "id": "SPY6MLMstNUs"
      },
      "source": [
        "def func_sec(time_string):\n",
        "  h, m, s = time_string.split(':')\n",
        "  return int(h) * 3600 + int(m) * 60 + int(s)\n",
        "  "
      ],
      "execution_count": 115,
      "outputs": []
    },
    {
      "cell_type": "code",
      "metadata": {
        "id": "3Zop5yvavpKW"
      },
      "source": [
        "time1 = time.apply(func_sec)"
      ],
      "execution_count": 116,
      "outputs": []
    },
    {
      "cell_type": "code",
      "metadata": {
        "colab": {
          "base_uri": "https://localhost:8080/",
          "height": 195
        },
        "id": "4tri7HK4wbAo",
        "outputId": "88ed2f31-fe0e-4435-ab8a-64a6f3bc86e8"
      },
      "source": [
        "data_t[\"duration\"] = time1\n",
        "data_t.head()"
      ],
      "execution_count": 117,
      "outputs": [
        {
          "output_type": "execute_result",
          "data": {
            "text/html": [
              "<div>\n",
              "<style scoped>\n",
              "    .dataframe tbody tr th:only-of-type {\n",
              "        vertical-align: middle;\n",
              "    }\n",
              "\n",
              "    .dataframe tbody tr th {\n",
              "        vertical-align: top;\n",
              "    }\n",
              "\n",
              "    .dataframe thead th {\n",
              "        text-align: right;\n",
              "    }\n",
              "</style>\n",
              "<table border=\"1\" class=\"dataframe\">\n",
              "  <thead>\n",
              "    <tr style=\"text-align: right;\">\n",
              "      <th></th>\n",
              "      <th>vidid</th>\n",
              "      <th>adview</th>\n",
              "      <th>views</th>\n",
              "      <th>likes</th>\n",
              "      <th>dislikes</th>\n",
              "      <th>comment</th>\n",
              "      <th>published</th>\n",
              "      <th>duration</th>\n",
              "      <th>category</th>\n",
              "    </tr>\n",
              "  </thead>\n",
              "  <tbody>\n",
              "    <tr>\n",
              "      <th>0</th>\n",
              "      <td>5912</td>\n",
              "      <td>40</td>\n",
              "      <td>1031602</td>\n",
              "      <td>8523</td>\n",
              "      <td>363</td>\n",
              "      <td>1095</td>\n",
              "      <td>2168</td>\n",
              "      <td>457</td>\n",
              "      <td>6</td>\n",
              "    </tr>\n",
              "    <tr>\n",
              "      <th>1</th>\n",
              "      <td>2741</td>\n",
              "      <td>2</td>\n",
              "      <td>1707</td>\n",
              "      <td>56</td>\n",
              "      <td>2</td>\n",
              "      <td>6</td>\n",
              "      <td>2185</td>\n",
              "      <td>570</td>\n",
              "      <td>4</td>\n",
              "    </tr>\n",
              "    <tr>\n",
              "      <th>2</th>\n",
              "      <td>8138</td>\n",
              "      <td>1</td>\n",
              "      <td>2023</td>\n",
              "      <td>25</td>\n",
              "      <td>0</td>\n",
              "      <td>2</td>\n",
              "      <td>2094</td>\n",
              "      <td>136</td>\n",
              "      <td>3</td>\n",
              "    </tr>\n",
              "    <tr>\n",
              "      <th>3</th>\n",
              "      <td>9005</td>\n",
              "      <td>6</td>\n",
              "      <td>620860</td>\n",
              "      <td>777</td>\n",
              "      <td>161</td>\n",
              "      <td>153</td>\n",
              "      <td>2119</td>\n",
              "      <td>262</td>\n",
              "      <td>8</td>\n",
              "    </tr>\n",
              "    <tr>\n",
              "      <th>4</th>\n",
              "      <td>122</td>\n",
              "      <td>1</td>\n",
              "      <td>666</td>\n",
              "      <td>1</td>\n",
              "      <td>0</td>\n",
              "      <td>0</td>\n",
              "      <td>2091</td>\n",
              "      <td>31</td>\n",
              "      <td>4</td>\n",
              "    </tr>\n",
              "  </tbody>\n",
              "</table>\n",
              "</div>"
            ],
            "text/plain": [
              "   vidid  adview    views  likes  ...  comment  published  duration  category\n",
              "0   5912      40  1031602   8523  ...     1095       2168       457         6\n",
              "1   2741       2     1707     56  ...        6       2185       570         4\n",
              "2   8138       1     2023     25  ...        2       2094       136         3\n",
              "3   9005       6   620860    777  ...      153       2119       262         8\n",
              "4    122       1      666      1  ...        0       2091        31         4\n",
              "\n",
              "[5 rows x 9 columns]"
            ]
          },
          "metadata": {
            "tags": []
          },
          "execution_count": 117
        }
      ]
    },
    {
      "cell_type": "code",
      "metadata": {
        "colab": {
          "base_uri": "https://localhost:8080/",
          "height": 524
        },
        "id": "lFHBFrquw_Ox",
        "outputId": "f92a5ce9-9abd-477d-9d2e-f89bdd2c81e1"
      },
      "source": [
        "plt.hist(data_t[\"category\"])\n",
        "plt.show()\n",
        "plt.plot(data_t[\"adview\"])\n",
        "plt.show()"
      ],
      "execution_count": 118,
      "outputs": [
        {
          "output_type": "display_data",
          "data": {
            "image/png": "[encoded data removed]",
            "text/plain": [
              "<Figure size 432x288 with 1 Axes>"
            ]
          },
          "metadata": {
            "tags": [],
            "needs_background": "light"
          }
        },
        {
          "output_type": "display_data",
          "data": {
            "image/png": "[encoded data removed]",
            "text/plain": [
              "<Figure size 432x288 with 1 Axes>"
            ]
          },
          "metadata": {
            "tags": [],
            "needs_background": "light"
          }
        }
      ]
    },
    {
      "cell_type": "code",
      "metadata": {
        "id": "58CncRtYx02M",
        "colab": {
          "base_uri": "https://localhost:8080/",
          "height": 276
        },
        "outputId": "1cbba06f-b4b3-4f40-f376-8e14f0082c98"
      },
      "source": [
        "data_t = data_t[data_t[\"adview\"]<2000000]\n",
        "plt.plot(data_t[\"adview\"])\n",
        "plt.show()"
      ],
      "execution_count": 119,
      "outputs": [
        {
          "output_type": "display_data",
          "data": {
            "image/png": "[encoded data removed]",
            "text/plain": [
              "<Figure size 432x288 with 1 Axes>"
            ]
          },
          "metadata": {
            "tags": [],
            "needs_background": "light"
          }
        }
      ]
    },
    {
      "cell_type": "code",
      "metadata": {
        "id": "iorWu2OdxMfT"
      },
      "source": [
        "import seaborn as sns"
      ],
      "execution_count": 120,
      "outputs": []
    },
    {
      "cell_type": "code",
      "metadata": {
        "colab": {
          "base_uri": "https://localhost:8080/",
          "height": 504
        },
        "id": "pz3p_n1g5aDR",
        "outputId": "0e1da1f2-e69f-47da-881d-09ceb986adc3"
      },
      "source": [
        "f, ax = plt.subplots(figsize=(10,8))\n",
        "corr = data_t.corr()\n",
        "sns.heatmap(corr, mask = np.zeros_like(corr, dtype=np.bool), cmap=sns.diverging_palette(220 , 10, as_cmap =True),square=True,ax=ax, annot=True)"
      ],
      "execution_count": 121,
      "outputs": [
        {
          "output_type": "execute_result",
          "data": {
            "text/plain": [
              "<matplotlib.axes._subplots.AxesSubplot at 0x7f44c507c518>"
            ]
          },
          "metadata": {
            "tags": []
          },
          "execution_count": 121
        },
        {
          "output_type": "display_data",
          "data": {
            "image/png": "[encoded data removed]",
            "text/plain": [
              "<Figure size 720x576 with 2 Axes>"
            ]
          },
          "metadata": {
            "tags": [],
            "needs_background": "light"
          }
        }
      ]
    },
    {
      "cell_type": "code",
      "metadata": {
        "id": "_Wv6sgLxjafL"
      },
      "source": [
        "from sklearn.model_selection import train_test_split "
      ],
      "execution_count": 122,
      "outputs": []
    },
    {
      "cell_type": "code",
      "metadata": {
        "id": "XuzlwOmJq-J3"
      },
      "source": [
        "Y_train = pd.DataFrame(data=data_t.iloc[:, 1].values , columns=['target'])\n",
        "data_t = data_t.drop([\"adview\"], axis =1)\n",
        "data_t = data_t.drop([\"vidid\"], axis =1)"
      ],
      "execution_count": 123,
      "outputs": []
    },
    {
      "cell_type": "code",
      "metadata": {
        "colab": {
          "base_uri": "https://localhost:8080/"
        },
        "id": "4bPur_XZuR7b",
        "outputId": "a0f591be-7350-4f6d-98f2-034793cb899d"
      },
      "source": [
        "X_train , X_test, y_train , y_test = train_test_split(data_t  ,Y_train , test_size=0.15 ,random_state=42 )\n",
        "X_train.shape"
      ],
      "execution_count": 124,
      "outputs": [
        {
          "output_type": "execute_result",
          "data": {
            "text/plain": [
              "(12440, 7)"
            ]
          },
          "metadata": {
            "tags": []
          },
          "execution_count": 124
        }
      ]
    },
    {
      "cell_type": "code",
      "metadata": {
        "id": "LgYMDvBvw5qp"
      },
      "source": [
        "from sklearn.preprocessing import MinMaxScaler\n",
        "scaler = MinMaxScaler()\n",
        "X_train= scaler.fit_transform(X_train)\n",
        "X_test= scaler.fit_transform(X_test)"
      ],
      "execution_count": 125,
      "outputs": []
    },
    {
      "cell_type": "code",
      "metadata": {
        "id": "d-y9tL5d5XX8"
      },
      "source": [
        "from sklearn import metrics\n",
        "def print_error(X_test , y_test , model_name):\n",
        "  prediction = model_name.predict(X_test)\n",
        "  print('Mean Absolute Error:',metrics.mean_absolute_error(y_test, prediction))\n",
        "  print('Mean Squared Error:', metrics.mean_squared_error(y_test, prediction))\n",
        "  print('RMS error: ', np.sqrt(metrics.mean_squared_error(y_test, prediction)))\n"
      ],
      "execution_count": 134,
      "outputs": []
    },
    {
      "cell_type": "code",
      "metadata": {
        "colab": {
          "base_uri": "https://localhost:8080/"
        },
        "id": "mdUXIwPdCqlb",
        "outputId": "e3538057-e65b-4de5-f921-602858e60cbc"
      },
      "source": [
        "from sklearn import linear_model\n",
        "linear_regression = linear_model.LinearRegression()\n",
        "linear_regression.fit(X_train,y_train)\n",
        "print_error(X_test,y_test,linear_regression)"
      ],
      "execution_count": 131,
      "outputs": [
        {
          "output_type": "stream",
          "text": [
            "Mean Absolute Error: 3841.560141942038\n",
            "Mean Squared Error: 1013034743.4769675\n",
            "RMS error:  31828.206727319204\n"
          ],
          "name": "stdout"
        }
      ]
    },
    {
      "cell_type": "code",
      "metadata": {
        "colab": {
          "base_uri": "https://localhost:8080/"
        },
        "id": "Yq8hMaWXDWmo",
        "outputId": "fe829ca7-e514-4839-d378-f174182180cc"
      },
      "source": [
        "from sklearn.tree import DecisionTreeRegressor\n",
        "decision_tree_reg = DecisionTreeRegressor()\n",
        "decision_tree_reg.fit(X_train,y_train)\n",
        "print_error(X_test,y_test,decision_tree_reg)"
      ],
      "execution_count": 132,
      "outputs": [
        {
          "output_type": "stream",
          "text": [
            "Mean Absolute Error: 3303.225865209472\n",
            "Mean Squared Error: 2187840885.564663\n",
            "RMS error:  46774.361412687\n"
          ],
          "name": "stdout"
        }
      ]
    },
    {
      "cell_type": "code",
      "metadata": {
        "colab": {
          "base_uri": "https://localhost:8080/"
        },
        "id": "HCDZmx-6M0dQ",
        "outputId": "54fb6fad-4caa-424e-c703-e7b7fa567e36"
      },
      "source": [
        "from sklearn.ensemble import RandomForestRegressor\n",
        "n_estimators = 200\n",
        "max_d=25\n",
        "min_sample_split = 15\n",
        "min_sample_leaf = 2\n",
        "random_forest_reg = RandomForestRegressor(n_estimators = n_estimators, max_depth= max_d, min_samples_split=min_sample_split )\n",
        "random_forest_reg.fit(X_train,y_train)\n",
        "print_error(X_test,y_test, random_forest_reg)"
      ],
      "execution_count": 139,
      "outputs": [
        {
          "output_type": "stream",
          "text": [
            "/usr/local/lib/python3.6/dist-packages/ipykernel_launcher.py:7: DataConversionWarning: A column-vector y was passed when a 1d array was expected. Please change the shape of y to (n_samples,), for example using ravel().\n",
            "  import sys\n"
          ],
          "name": "stderr"
        },
        {
          "output_type": "stream",
          "text": [
            "Mean Absolute Error: 3320.7288354826555\n",
            "Mean Squared Error: 677138951.8120875\n",
            "RMS error:  26021.893701498506\n"
          ],
          "name": "stdout"
        }
      ]
    },
    {
      "cell_type": "code",
      "metadata": {
        "colab": {
          "base_uri": "https://localhost:8080/"
        },
        "id": "2yrTgkRoVPz3",
        "outputId": "fece8b7a-422d-4c62-e728-eff3e1edd855"
      },
      "source": [
        "from sklearn.svm import SVR\n",
        "support_vec_reg = SVR()\n",
        "support_vec_reg.fit(X_train,y_train)\n",
        "print_error(X_test,y_test, linear_regression)"
      ],
      "execution_count": 140,
      "outputs": [
        {
          "output_type": "stream",
          "text": [
            "/usr/local/lib/python3.6/dist-packages/sklearn/utils/validation.py:760: DataConversionWarning: A column-vector y was passed when a 1d array was expected. Please change the shape of y to (n_samples, ), for example using ravel().\n",
            "  y = column_or_1d(y, warn=True)\n"
          ],
          "name": "stderr"
        },
        {
          "output_type": "stream",
          "text": [
            "Mean Absolute Error: 3841.560141942038\n",
            "Mean Squared Error: 1013034743.4769675\n",
            "RMS error:  31828.206727319204\n"
          ],
          "name": "stdout"
        }
      ]
    },
    {
      "cell_type": "code",
      "metadata": {
        "id": "e9dnjGWwWnxw"
      },
      "source": [
        "import keras\n",
        "from keras.layers import Dense\n",
        "\n",
        "ann = keras.models.Sequential([\n",
        "                               Dense(12, activation=\"relu\",input_shape=X_train.shape[1:]),\n",
        "                               Dense(12, activation=\"relu\"),Dense(1)\n",
        "                              ])\n",
        "optimizer=keras.optimizers.Adam()\n",
        "loss=keras.losses.mean_squared_error\n",
        "ann.compile(optimizer=optimizer,loss=loss,metrics=[\"mean_squared_error\"])"
      ],
      "execution_count": 141,
      "outputs": []
    },
    {
      "cell_type": "code",
      "metadata": {
        "colab": {
          "base_uri": "https://localhost:8080/"
        },
        "id": "v_ZopyCZZkPf",
        "outputId": "850cee99-2405-451c-a87b-3ab79a511335"
      },
      "source": [
        "history=ann.fit(X_train,y_train,epochs=100)\n",
        "ann.summary()\n",
        "print_error(X_test,y_test,ann)"
      ],
      "execution_count": 142,
      "outputs": [
        {
          "output_type": "stream",
          "text": [
            "Epoch 1/100\n",
            "389/389 [==============================] - 0s 977us/step - loss: 739686912.0000 - mean_squared_error: 739686912.0000\n",
            "Epoch 2/100\n",
            "389/389 [==============================] - 0s 1ms/step - loss: 739659840.0000 - mean_squared_error: 739659840.0000\n",
            "Epoch 3/100\n",
            "389/389 [==============================] - 0s 988us/step - loss: 739594880.0000 - mean_squared_error: 739594880.0000\n",
            "Epoch 4/100\n",
            "389/389 [==============================] - 0s 1000us/step - loss: 739479872.0000 - mean_squared_error: 739479872.0000\n",
            "Epoch 5/100\n",
            "389/389 [==============================] - 0s 1ms/step - loss: 739311936.0000 - mean_squared_error: 739311936.0000\n",
            "Epoch 6/100\n",
            "389/389 [==============================] - 0s 987us/step - loss: 739101440.0000 - mean_squared_error: 739101440.0000\n",
            "Epoch 7/100\n",
            "389/389 [==============================] - 0s 969us/step - loss: 738864640.0000 - mean_squared_error: 738864640.0000\n",
            "Epoch 8/100\n",
            "389/389 [==============================] - 0s 1ms/step - loss: 738600192.0000 - mean_squared_error: 738600192.0000\n",
            "Epoch 9/100\n",
            "389/389 [==============================] - 0s 953us/step - loss: 738320896.0000 - mean_squared_error: 738320896.0000\n",
            "Epoch 10/100\n",
            "389/389 [==============================] - 0s 1ms/step - loss: 738054016.0000 - mean_squared_error: 738054016.0000\n",
            "Epoch 11/100\n",
            "389/389 [==============================] - 0s 990us/step - loss: 737800832.0000 - mean_squared_error: 737800832.0000\n",
            "Epoch 12/100\n",
            "389/389 [==============================] - 0s 989us/step - loss: 737574912.0000 - mean_squared_error: 737574912.0000\n",
            "Epoch 13/100\n",
            "389/389 [==============================] - 0s 1ms/step - loss: 737371200.0000 - mean_squared_error: 737371200.0000\n",
            "Epoch 14/100\n",
            "389/389 [==============================] - 0s 1ms/step - loss: 737193600.0000 - mean_squared_error: 737193600.0000\n",
            "Epoch 15/100\n",
            "389/389 [==============================] - 0s 1ms/step - loss: 737040512.0000 - mean_squared_error: 737040512.0000\n",
            "Epoch 16/100\n",
            "389/389 [==============================] - 0s 1ms/step - loss: 736906688.0000 - mean_squared_error: 736906688.0000\n",
            "Epoch 17/100\n",
            "389/389 [==============================] - 0s 1ms/step - loss: 736800192.0000 - mean_squared_error: 736800192.0000\n",
            "Epoch 18/100\n",
            "389/389 [==============================] - 0s 1ms/step - loss: 736713088.0000 - mean_squared_error: 736713088.0000\n",
            "Epoch 19/100\n",
            "389/389 [==============================] - 0s 985us/step - loss: 736637760.0000 - mean_squared_error: 736637760.0000\n",
            "Epoch 20/100\n",
            "389/389 [==============================] - 0s 993us/step - loss: 736574400.0000 - mean_squared_error: 736574400.0000\n",
            "Epoch 21/100\n",
            "389/389 [==============================] - 0s 1ms/step - loss: 736523968.0000 - mean_squared_error: 736523968.0000\n",
            "Epoch 22/100\n",
            "389/389 [==============================] - 0s 1ms/step - loss: 736478976.0000 - mean_squared_error: 736478976.0000\n",
            "Epoch 23/100\n",
            "389/389 [==============================] - 0s 1ms/step - loss: 736439808.0000 - mean_squared_error: 736439808.0000\n",
            "Epoch 24/100\n",
            "389/389 [==============================] - 0s 1ms/step - loss: 736411648.0000 - mean_squared_error: 736411648.0000\n",
            "Epoch 25/100\n",
            "389/389 [==============================] - 0s 1ms/step - loss: 736385536.0000 - mean_squared_error: 736385536.0000\n",
            "Epoch 26/100\n",
            "389/389 [==============================] - 0s 1ms/step - loss: 736368064.0000 - mean_squared_error: 736368064.0000\n",
            "Epoch 27/100\n",
            "389/389 [==============================] - 0s 1ms/step - loss: 736341952.0000 - mean_squared_error: 736341952.0000\n",
            "Epoch 28/100\n",
            "389/389 [==============================] - 0s 1ms/step - loss: 736328640.0000 - mean_squared_error: 736328640.0000\n",
            "Epoch 29/100\n",
            "389/389 [==============================] - 0s 994us/step - loss: 736308032.0000 - mean_squared_error: 736308032.0000\n",
            "Epoch 30/100\n",
            "389/389 [==============================] - 0s 1ms/step - loss: 736291072.0000 - mean_squared_error: 736291072.0000\n",
            "Epoch 31/100\n",
            "389/389 [==============================] - 0s 981us/step - loss: 736276416.0000 - mean_squared_error: 736276416.0000\n",
            "Epoch 32/100\n",
            "389/389 [==============================] - 0s 1ms/step - loss: 736264064.0000 - mean_squared_error: 736264064.0000\n",
            "Epoch 33/100\n",
            "389/389 [==============================] - 0s 1ms/step - loss: 736256768.0000 - mean_squared_error: 736256768.0000\n",
            "Epoch 34/100\n",
            "389/389 [==============================] - 0s 1ms/step - loss: 736236480.0000 - mean_squared_error: 736236480.0000\n",
            "Epoch 35/100\n",
            "389/389 [==============================] - 0s 1ms/step - loss: 736228480.0000 - mean_squared_error: 736228480.0000\n",
            "Epoch 36/100\n",
            "389/389 [==============================] - 0s 1ms/step - loss: 736210752.0000 - mean_squared_error: 736210752.0000\n",
            "Epoch 37/100\n",
            "389/389 [==============================] - 0s 1ms/step - loss: 736200128.0000 - mean_squared_error: 736200128.0000\n",
            "Epoch 38/100\n",
            "389/389 [==============================] - 0s 1ms/step - loss: 736192000.0000 - mean_squared_error: 736192000.0000\n",
            "Epoch 39/100\n",
            "389/389 [==============================] - 0s 979us/step - loss: 736179904.0000 - mean_squared_error: 736179904.0000\n",
            "Epoch 40/100\n",
            "389/389 [==============================] - 0s 1ms/step - loss: 736164160.0000 - mean_squared_error: 736164160.0000\n",
            "Epoch 41/100\n",
            "389/389 [==============================] - 0s 1ms/step - loss: 736156928.0000 - mean_squared_error: 736156928.0000\n",
            "Epoch 42/100\n",
            "389/389 [==============================] - 0s 1ms/step - loss: 736141504.0000 - mean_squared_error: 736141504.0000\n",
            "Epoch 43/100\n",
            "389/389 [==============================] - 0s 1ms/step - loss: 736132160.0000 - mean_squared_error: 736132160.0000\n",
            "Epoch 44/100\n",
            "389/389 [==============================] - 0s 1ms/step - loss: 736118464.0000 - mean_squared_error: 736118464.0000\n",
            "Epoch 45/100\n",
            "389/389 [==============================] - 0s 1ms/step - loss: 736111488.0000 - mean_squared_error: 736111488.0000\n",
            "Epoch 46/100\n",
            "389/389 [==============================] - 0s 1ms/step - loss: 736100608.0000 - mean_squared_error: 736100608.0000\n",
            "Epoch 47/100\n",
            "389/389 [==============================] - 0s 998us/step - loss: 736088128.0000 - mean_squared_error: 736088128.0000\n",
            "Epoch 48/100\n",
            "389/389 [==============================] - 0s 1ms/step - loss: 736078208.0000 - mean_squared_error: 736078208.0000\n",
            "Epoch 49/100\n",
            "389/389 [==============================] - 0s 1ms/step - loss: 736068928.0000 - mean_squared_error: 736068928.0000\n",
            "Epoch 50/100\n",
            "389/389 [==============================] - 0s 1ms/step - loss: 736057728.0000 - mean_squared_error: 736057728.0000\n",
            "Epoch 51/100\n",
            "389/389 [==============================] - 0s 1ms/step - loss: 736051136.0000 - mean_squared_error: 736051136.0000\n",
            "Epoch 52/100\n",
            "389/389 [==============================] - 0s 1ms/step - loss: 736037120.0000 - mean_squared_error: 736037120.0000\n",
            "Epoch 53/100\n",
            "389/389 [==============================] - 0s 1ms/step - loss: 736023232.0000 - mean_squared_error: 736023232.0000\n",
            "Epoch 54/100\n",
            "389/389 [==============================] - 0s 1ms/step - loss: 736016128.0000 - mean_squared_error: 736016128.0000\n",
            "Epoch 55/100\n",
            "389/389 [==============================] - 0s 1ms/step - loss: 736002752.0000 - mean_squared_error: 736002752.0000\n",
            "Epoch 56/100\n",
            "389/389 [==============================] - 0s 1ms/step - loss: 735992640.0000 - mean_squared_error: 735992640.0000\n",
            "Epoch 57/100\n",
            "389/389 [==============================] - 0s 1ms/step - loss: 735983936.0000 - mean_squared_error: 735983936.0000\n",
            "Epoch 58/100\n",
            "389/389 [==============================] - 0s 1ms/step - loss: 735968000.0000 - mean_squared_error: 735968000.0000\n",
            "Epoch 59/100\n",
            "389/389 [==============================] - 0s 1ms/step - loss: 735958592.0000 - mean_squared_error: 735958592.0000\n",
            "Epoch 60/100\n",
            "389/389 [==============================] - 0s 1ms/step - loss: 735949248.0000 - mean_squared_error: 735949248.0000\n",
            "Epoch 61/100\n",
            "389/389 [==============================] - 0s 1ms/step - loss: 735937152.0000 - mean_squared_error: 735937152.0000\n",
            "Epoch 62/100\n",
            "389/389 [==============================] - 0s 1ms/step - loss: 735922240.0000 - mean_squared_error: 735922240.0000\n",
            "Epoch 63/100\n",
            "389/389 [==============================] - 0s 1ms/step - loss: 735916352.0000 - mean_squared_error: 735916352.0000\n",
            "Epoch 64/100\n",
            "389/389 [==============================] - 0s 1ms/step - loss: 735904640.0000 - mean_squared_error: 735904640.0000\n",
            "Epoch 65/100\n",
            "389/389 [==============================] - 0s 1ms/step - loss: 735897856.0000 - mean_squared_error: 735897856.0000\n",
            "Epoch 66/100\n",
            "389/389 [==============================] - 0s 1ms/step - loss: 735881088.0000 - mean_squared_error: 735881088.0000\n",
            "Epoch 67/100\n",
            "389/389 [==============================] - 0s 1ms/step - loss: 735869888.0000 - mean_squared_error: 735869888.0000\n",
            "Epoch 68/100\n",
            "389/389 [==============================] - 0s 1ms/step - loss: 735864320.0000 - mean_squared_error: 735864320.0000\n",
            "Epoch 69/100\n",
            "389/389 [==============================] - 0s 1ms/step - loss: 735852224.0000 - mean_squared_error: 735852224.0000\n",
            "Epoch 70/100\n",
            "389/389 [==============================] - 0s 1ms/step - loss: 735838144.0000 - mean_squared_error: 735838144.0000\n",
            "Epoch 71/100\n",
            "389/389 [==============================] - 0s 1ms/step - loss: 735825664.0000 - mean_squared_error: 735825664.0000\n",
            "Epoch 72/100\n",
            "389/389 [==============================] - 0s 1ms/step - loss: 735817792.0000 - mean_squared_error: 735817792.0000\n",
            "Epoch 73/100\n",
            "389/389 [==============================] - 0s 1ms/step - loss: 735800448.0000 - mean_squared_error: 735800448.0000\n",
            "Epoch 74/100\n",
            "389/389 [==============================] - 0s 1ms/step - loss: 735791936.0000 - mean_squared_error: 735791936.0000\n",
            "Epoch 75/100\n",
            "389/389 [==============================] - 0s 1ms/step - loss: 735778688.0000 - mean_squared_error: 735778688.0000\n",
            "Epoch 76/100\n",
            "389/389 [==============================] - 0s 1ms/step - loss: 735772352.0000 - mean_squared_error: 735772352.0000\n",
            "Epoch 77/100\n",
            "389/389 [==============================] - 0s 1ms/step - loss: 735758208.0000 - mean_squared_error: 735758208.0000\n",
            "Epoch 78/100\n",
            "389/389 [==============================] - 0s 1ms/step - loss: 735747072.0000 - mean_squared_error: 735747072.0000\n",
            "Epoch 79/100\n",
            "389/389 [==============================] - 0s 1ms/step - loss: 735735680.0000 - mean_squared_error: 735735680.0000\n",
            "Epoch 80/100\n",
            "389/389 [==============================] - 0s 1ms/step - loss: 735723520.0000 - mean_squared_error: 735723520.0000\n",
            "Epoch 81/100\n",
            "389/389 [==============================] - 0s 998us/step - loss: 735712256.0000 - mean_squared_error: 735712256.0000\n",
            "Epoch 82/100\n",
            "389/389 [==============================] - 0s 1000us/step - loss: 735703360.0000 - mean_squared_error: 735703360.0000\n",
            "Epoch 83/100\n",
            "389/389 [==============================] - 0s 1ms/step - loss: 735688960.0000 - mean_squared_error: 735688960.0000\n",
            "Epoch 84/100\n",
            "389/389 [==============================] - 0s 1ms/step - loss: 735677312.0000 - mean_squared_error: 735677312.0000\n",
            "Epoch 85/100\n",
            "389/389 [==============================] - 0s 1ms/step - loss: 735667328.0000 - mean_squared_error: 735667328.0000\n",
            "Epoch 86/100\n",
            "389/389 [==============================] - 0s 1ms/step - loss: 735653184.0000 - mean_squared_error: 735653184.0000\n",
            "Epoch 87/100\n",
            "389/389 [==============================] - 0s 1ms/step - loss: 735643392.0000 - mean_squared_error: 735643392.0000\n",
            "Epoch 88/100\n",
            "389/389 [==============================] - 0s 1ms/step - loss: 735631616.0000 - mean_squared_error: 735631616.0000\n",
            "Epoch 89/100\n",
            "389/389 [==============================] - 0s 1ms/step - loss: 735620544.0000 - mean_squared_error: 735620544.0000\n",
            "Epoch 90/100\n",
            "389/389 [==============================] - 0s 988us/step - loss: 735607616.0000 - mean_squared_error: 735607616.0000\n",
            "Epoch 91/100\n",
            "389/389 [==============================] - 0s 1ms/step - loss: 735597376.0000 - mean_squared_error: 735597376.0000\n",
            "Epoch 92/100\n",
            "389/389 [==============================] - 0s 1ms/step - loss: 735586752.0000 - mean_squared_error: 735586752.0000\n",
            "Epoch 93/100\n",
            "389/389 [==============================] - 0s 1ms/step - loss: 735570688.0000 - mean_squared_error: 735570688.0000\n",
            "Epoch 94/100\n",
            "389/389 [==============================] - 0s 1ms/step - loss: 735562944.0000 - mean_squared_error: 735562944.0000\n",
            "Epoch 95/100\n",
            "389/389 [==============================] - 0s 1ms/step - loss: 735548608.0000 - mean_squared_error: 735548608.0000\n",
            "Epoch 96/100\n",
            "389/389 [==============================] - 0s 1ms/step - loss: 735537984.0000 - mean_squared_error: 735537984.0000\n",
            "Epoch 97/100\n",
            "389/389 [==============================] - 0s 1ms/step - loss: 735521088.0000 - mean_squared_error: 735521088.0000\n",
            "Epoch 98/100\n",
            "389/389 [==============================] - 0s 1ms/step - loss: 735516224.0000 - mean_squared_error: 735516224.0000\n",
            "Epoch 99/100\n",
            "389/389 [==============================] - 0s 1ms/step - loss: 735497536.0000 - mean_squared_error: 735497536.0000\n",
            "Epoch 100/100\n",
            "389/389 [==============================] - 0s 982us/step - loss: 735488512.0000 - mean_squared_error: 735488512.0000\n",
            "Model: \"sequential\"\n",
            "_________________________________________________________________\n",
            "Layer (type)                 Output Shape              Param #   \n",
            "=================================================================\n",
            "dense (Dense)                (None, 12)                96        \n",
            "_________________________________________________________________\n",
            "dense_1 (Dense)              (None, 12)                156       \n",
            "_________________________________________________________________\n",
            "dense_2 (Dense)              (None, 1)                 13        \n",
            "=================================================================\n",
            "Total params: 265\n",
            "Trainable params: 265\n",
            "Non-trainable params: 0\n",
            "_________________________________________________________________\n",
            "Mean Absolute Error: 3420.6246862463613\n",
            "Mean Squared Error: 1007622293.1449826\n",
            "RMS error:  31743.066851597414\n"
          ],
          "name": "stdout"
        }
      ]
    },
    {
      "cell_type": "code",
      "metadata": {
        "colab": {
          "base_uri": "https://localhost:8080/"
        },
        "id": "qLIDkKUaYcT1",
        "outputId": "a67b2bf8-ed90-4ab5-c0e9-de4100f3e3ac"
      },
      "source": [
        "import joblib\n",
        "joblib.dump(decision_tree_reg, \"decision_tree_youtube_adview.pkl\")"
      ],
      "execution_count": 143,
      "outputs": [
        {
          "output_type": "execute_result",
          "data": {
            "text/plain": [
              "['decision_tree_youtube_adview.pkl']"
            ]
          },
          "metadata": {
            "tags": []
          },
          "execution_count": 143
        }
      ]
    },
    {
      "cell_type": "code",
      "metadata": {
        "id": "sW6sPZnNbXLX"
      },
      "source": [
        "ann.save(\"ann_youtube_adview.h5\")"
      ],
      "execution_count": 144,
      "outputs": []
    }
  ]
}